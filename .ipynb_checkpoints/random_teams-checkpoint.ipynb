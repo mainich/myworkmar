{
 "cells": [
  {
   "cell_type": "code",
   "execution_count": 2,
   "id": "ba07dd35",
   "metadata": {},
   "outputs": [],
   "source": [
    "import random\n",
    "import time"
   ]
  },
  {
   "cell_type": "code",
   "execution_count": 7,
   "id": "de5a61aa",
   "metadata": {
    "scrolled": true
   },
   "outputs": [
    {
     "name": "stdout",
     "output_type": "stream",
     "text": [
      "/|/|/|/|/|/|/|/|/|/|/|/|/\n",
      "\u001b[94m\\Team 1 are: breezy striker bsher swis yanal\"\u001b[0m\n",
      "/|/|/|/|/|/|/|/|/|/|/|/|/\n",
      "\u001b[95m\\Team 2 are: sniker 7rb omar mody soft\n"
     ]
    }
   ],
   "source": [
    "def clean():\n",
    "    all_players.clear()\n",
    "    team1.clear()\n",
    "    \n",
    "all_players=['power striker', 'power sniker', 'swis', 'power 7rb', 'power breezy', 'omar', 'mody', 'bsher', 'yanal', 'soft']\n",
    "powerplayers=[]\n",
    "new_all_players=[]\n",
    "team1=[]\n",
    "players_number = 10\n",
    "\n",
    "#while players_number == 0:\n",
    "#    try:\n",
    "#        players_number = int(input(\"How many players? :\"))\n",
    "#    except:\n",
    "#        print(\"\\x1b[31m\\\"Please enter a number\\\"\\x1b[0m\")\n",
    "\n",
    "#for i in range(0, players_number):\n",
    "#    b = input(\"Entrer players names: \")\n",
    "#    all_players.append(b)\n",
    "\n",
    "for element in all_players:\n",
    "    if \"power\" in element:\n",
    "        power = element.split(\" \")[1]\n",
    "        powerplayers.append(power)\n",
    "\n",
    "for element2 in all_players:\n",
    "    if \"power\" not in element2:\n",
    "        new_all_players.append(element2)\n",
    "\n",
    "lenpowerplayers = len(powerplayers)\n",
    "\n",
    "while len(team1) < lenpowerplayers:\n",
    "    a = random.randint(0, lenpowerplayers - 1)\n",
    "    team1.append(powerplayers[a])\n",
    "    powerplayers.pop(a)\n",
    "    lenpowerplayers-=1\n",
    "    \n",
    "new_playernum = len(new_all_players)\n",
    "\n",
    "while len(team1) <= new_playernum:\n",
    "    a = random.randint(0, new_playernum - 1)\n",
    "    team1.append(new_all_players[a])\n",
    "    new_all_players.pop(a)\n",
    "    new_playernum-=1\n",
    "\n",
    "for element3 in new_all_players:\n",
    "    powerplayers.append(element3)\n",
    "    \n",
    "time.sleep(1)\n",
    "print(\"/|/|/|/|/|/|/|/|/|/|/|/|/\")\n",
    "print(\"\\33[94m\\Team 1 are: \" + \" \".join(team1) + \"\\\"\\x1b[0m\")\n",
    "print(\"/|/|/|/|/|/|/|/|/|/|/|/|/\")\n",
    "print(\"\\33[95m\\Team 2 are: \" + \" \".join(powerplayers))\n",
    "\n",
    "clean()"
   ]
  },
  {
   "cell_type": "code",
   "execution_count": 101,
   "id": "6eb85023",
   "metadata": {
    "scrolled": true
   },
   "outputs": [
    {
     "name": "stdout",
     "output_type": "stream",
     "text": [
      "['brezy', '7rb', 'dnjoor', 'yanal', 'swis']\n"
     ]
    }
   ],
   "source": [
    "print(powerplayers)"
   ]
  },
  {
   "cell_type": "code",
   "execution_count": null,
   "id": "5d8e3167",
   "metadata": {},
   "outputs": [],
   "source": []
  }
 ],
 "metadata": {
  "kernelspec": {
   "display_name": "Python 3",
   "language": "python",
   "name": "python3"
  },
  "language_info": {
   "codemirror_mode": {
    "name": "ipython",
    "version": 3
   },
   "file_extension": ".py",
   "mimetype": "text/x-python",
   "name": "python",
   "nbconvert_exporter": "python",
   "pygments_lexer": "ipython3",
   "version": "3.8.8"
  }
 },
 "nbformat": 4,
 "nbformat_minor": 5
}
